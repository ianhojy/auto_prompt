{
 "cells": [
  {
   "cell_type": "code",
   "execution_count": 41,
   "id": "f32ba489",
   "metadata": {},
   "outputs": [],
   "source": [
    "import sys\n",
    "sys.path.append('../../src')"
   ]
  },
  {
   "cell_type": "code",
   "execution_count": 42,
   "id": "9d3ee0cb",
   "metadata": {},
   "outputs": [],
   "source": [
    "from auto_prompt.llm.openai import OpenAICompletionEngine"
   ]
  },
  {
   "cell_type": "code",
   "execution_count": 169,
   "id": "65dae2bf",
   "metadata": {},
   "outputs": [],
   "source": [
    "sql_code = 'selct category, count(*) from mytable where year >= 2022 group by category order by count(*) limit 10'\n",
    "\n",
    "original_prompt = 'Given a sql code, explain the code. This is the sql code: ```{sql_code}```'\n",
    "original_prompt = 'Given a SQL code, provide a concise, step-by-step explanation of the code without making references to actual pieces of code. Your explanation should be comprehensive and accessible to individuals with little knowledge of data analytics. Here is the SQL code: ```{sql_code}```'\n",
    "original_prompt = 'Given a SQL code, generate a concise, itemized list of action steps interpreting what the code is doing. Avoid using technical jargon and make your explanation comprehensive for individuals with a minimal understanding of data analytics. Do not reference actual pieces of code in your explanation. Here is the SQL code: ```{sql_code}```'\n",
    "original_propmt = 'Given a SQL code, generate a point-by-point breakdown of actions that are being performed in the code. Make your explanation easy-to-grab for those with little to no understanding of data analytics. Your task is to convey what the code is doing without using technical terms or citing the actual snippets of the code. Provide each step as a separate numbered line. Remember clarity, brevity and understanding are key. Please do not include any supplementary text before, after or within the list. Here is the SQL code: ```{sql_code}```'\n",
    "original_prompt = 'Given a SQL code, generate a concise, step-by-step non-technical interpretation of what the code aims to accomplish. Your explanation should help someone with limited data analytics experience to understand the purpose of the code. Ensure your explanation is organized as an itemized list, no introduction or conclusion is needed. Additionally, refrain from referencing actual pieces of code from the SQL query. Here is the SQL code: ```{sql_code}```'\n",
    "original_prompt = 'Given a SQL code, generate a structured, point by point non-technical interpretation that outlines the purpose and operations in the SQL command. Strive for brevity and clarity in your explanations, and avoid direct referencing to SQL terms. Bear in mind that your audience may not have extensive knowledge in data analytics or SQL hence the interpretations should be easy to follow and understand at a basic level. Your interpretation should come in the form of an itemized list without any preamble or conclusion. Here is the SQL code: ```{sql_code}```'\n",
    "original_prompt = 'Given a SQL command, outline a clear, point-by-point interpretation that conveys the intention and the actions in the SQL command in non-technical language. Aim for simplicity and conciseness in your explanations, with an emphasis on stripping SQL references to make it understandable to a novice. Explain the steps as bullet points, with no introductory or concluding statements. Your audience may not possess a deep understanding of data analytics or SQL language, so make sure your explanations are comprehensive but straightforward. Here is the SQL command: ```{sql_code}```'\n",
    "original_prompt = \"\"\"\n",
    "Given a SQL command, provide a clear, step-by-step interpretation of the command that explains the intention and actions in everyday language. Your target audience may not know much, if anything, about data analytics or SQL language.\n",
    "\n",
    "Set your explanations as a list of bullet points, focusing only on each step of the operation and not on the actual code. Avoid introductory or concluding statements. Remain concise while also ensuring you're comprehensive in your explanation to make the SQL command understandable for a beginner. Follow this format: ```{sql_code}```.\n",
    "- Step 1: ...\n",
    "- Step 2: ...\n",
    "- Step 3: ...\n",
    "- ...\n",
    "Here is the SQL command: ```{sql_code}```.\n",
    "\"\"\"\n",
    "\n",
    "original_prompt = \"\"\"\n",
    "Given a SQL command, provide a clear, step-by-step interpretation of the command that breaks down the intention and actions in ordinary language. Your audience may not have much, if any, background in data analytics or SQL language. \n",
    "\n",
    "Make your explanations a sequence of steps focused entirely on each operation's phase, not on the actual code. Keep away from beginning or concluding statements. Stay succinct while also ensuring that your explanation is comprehensive to make the SQL command understandable for a novice. Follow the format: \n",
    "\n",
    "- Step 1: <Step 1 explanation...>\n",
    "- Step 2: <Step 2 explanation...>\n",
    "- Step 3: <Step 3 explanation...>\n",
    "- ...\n",
    "\n",
    "Here is the SQL command: ```{sql_code}```. \n",
    "\n",
    "Be sure to leave out any final thoughts or conclusions about the command as a whole. Stick to explaining the steps only.\n",
    "\"\"\"\n",
    "\n",
    "original_prompt = \"\"\"\n",
    "\n",
    "Given a SQL command, your task is to translate it into a concise sequence of steps that explain the command's intentions and actions in layman's terms. It is important to keep in mind that your audience may not have prior knowledge about data analytics or SQL programming language. \n",
    "\n",
    "Your explanations should provide a clear step-by-step guide focusing on each operation's phase without referring directly to the actual code. Aim for brevity while ensuring that your explanatory steps provide a broad understanding of the SQL command to a beginner. Write accordingly:\n",
    "\n",
    "- Step 1: <Insert your explanation>\n",
    "- Step 2: <Insert your explanation>\n",
    "- Step 3: <Insert your explanation>\n",
    "- ...\n",
    "\n",
    "Please bypass any introduction or conclusion about the overall command. Concentrate solely on explaining each specific step.\n",
    "\n",
    "Here is the SQL command you need to explain: ```{sql_code}```. \n",
    "\n",
    "Do not incorporate any concluding thoughts or interpretations about the entire command. Stick to explaining the individual steps alone. Make it a point to not refer to any SQL code or technical jargon. Your explanations should be as simple as possible to appropriately guide a novice.\n",
    "\"\"\"\n",
    "\n",
    "completion_engine = OpenAICompletionEngine()\n",
    "\n",
    "completion_engine.insert_message('system', 'you are a sql expert.')\n",
    "completion_engine.insert_message('user', original_prompt.format(sql_code=sql_code))"
   ]
  },
  {
   "cell_type": "code",
   "execution_count": 170,
   "id": "5f3de3c0",
   "metadata": {},
   "outputs": [],
   "source": [
    "result = completion_engine.get_response()\n",
    "explanation = result.choices[0].message.content"
   ]
  },
  {
   "cell_type": "code",
   "execution_count": 171,
   "id": "202c5f77",
   "metadata": {},
   "outputs": [
    {
     "name": "stdout",
     "output_type": "stream",
     "text": [
      "- Step 1: Look into a filing cabinet labeled \"mytable.\"\n",
      "- Step 2: Gather all the files in it.\n",
      "- Step 3: Ignore files from before the year 2022.\n",
      "- Step 4: Separate the remaining files into piles based on their category.\n",
      "- Step 5: Count the number of files in each category pile.\n",
      "- Step 6: Arrange the piles from largest to smallest according to the number of files in them.\n",
      "- Step 7: Pick the top 10 biggest piles.\n",
      "- Step 8: Record the name of each category and the size of its pile.\n"
     ]
    }
   ],
   "source": [
    "print(explanation)"
   ]
  },
  {
   "cell_type": "code",
   "execution_count": 172,
   "id": "7acbf028",
   "metadata": {},
   "outputs": [],
   "source": [
    "scoring_criteria = \"\"\"\n",
    "- The explanation should be concise.\n",
    "- The explanation should purely be a list of steps, with no words before or after.\n",
    "- The explanation does not need to make references to actual pieces of code. Just explain the steps.\n",
    "- The explanation should be comprehensive and not assume much baseline knowledge of data analytics.\n",
    "\"\"\""
   ]
  },
  {
   "cell_type": "code",
   "execution_count": 173,
   "id": "8c330c0c",
   "metadata": {},
   "outputs": [],
   "source": [
    "scorer_engine = OpenAICompletionEngine()\n",
    "scorer_engine.insert_message('system', \n",
    "    \"\"\"\n",
    "    You are a data analyst who is an expert at scoring explanations of SQL Code.\n",
    "    \"\"\"\n",
    ")\n",
    "scorer_engine.insert_message('user', \n",
    "    f\"\"\"\n",
    "    You will be given a sql query, an explanation of the query and a set of criteria to evaluate the explanation.\n",
    "    \n",
    "    This is the sql query:\n",
    "    ```\n",
    "    {sql_code}\n",
    "    ```\n",
    "    \n",
    "    This is the explanation:\n",
    "    ```\n",
    "    {explanation}\n",
    "    ```\n",
    "    \n",
    "    This is the evaluation critera:\n",
    "    ```\n",
    "    {scoring_criteria}\n",
    "    ```\n",
    "    \n",
    "    Your task is to evaluate the query explanation based on the criteria by giving it a score from 1 - 10.\n",
    "    Just return the score as a single float number and do not return anything else.\n",
    "    \n",
    "    Score:\n",
    "    ```\n",
    "    \"\"\"\n",
    ")"
   ]
  },
  {
   "cell_type": "code",
   "execution_count": 174,
   "id": "d72b85b3",
   "metadata": {},
   "outputs": [],
   "source": [
    "score = scorer_engine.get_response().choices[0].message.content"
   ]
  },
  {
   "cell_type": "code",
   "execution_count": 175,
   "id": "65c9209a",
   "metadata": {},
   "outputs": [
    {
     "data": {
      "text/plain": [
       "'8.5'"
      ]
     },
     "execution_count": 175,
     "metadata": {},
     "output_type": "execute_result"
    }
   ],
   "source": [
    "score"
   ]
  },
  {
   "cell_type": "code",
   "execution_count": 176,
   "id": "500f5bbb",
   "metadata": {},
   "outputs": [],
   "source": [
    "examples = f\"\"\"\n",
    "input: {sql_code}\n",
    "\n",
    "response: {explanation}\n",
    "\n",
    "score: {score}\n",
    "\"\"\""
   ]
  },
  {
   "cell_type": "code",
   "execution_count": 177,
   "id": "ddba67d6",
   "metadata": {},
   "outputs": [],
   "source": [
    "completion_engine = OpenAICompletionEngine()\n",
    "\n",
    "completion_engine.insert_message('system',\n",
    "    \"\"\"\n",
    "    You are a prompt engineer capable of improving a given prompt based on \\\n",
    "    feedback of the prompt's performance\n",
    "    \"\"\"\n",
    ")\n",
    "completion_engine.insert_message('user', \n",
    "    f\"\"\"\n",
    "    You will first be provided with a previously used prompt. \\\n",
    "    Then, you will be given examples of (input, response, score) where the prompt was used to \\\n",
    "    generate the response from the input. \\\n",
    "    Separately, the quality of each response was given a score, \\\n",
    "    and the examples provied are the ones with the lowest scores.\n",
    "    You will be given the description of the scoring criteria as context. \\\n",
    "    Based on these examples, you will then have to edit the prompt so that the score can improve.\n",
    "    \n",
    "    This is the original prompt:\n",
    "    ```\n",
    "    {original_prompt}\n",
    "    ```\n",
    "    \n",
    "    This is the description of the scoring criteria used to generate the score of responses:\n",
    "    ```\n",
    "    {scoring_criteria}\n",
    "    ```\n",
    "    \n",
    "    These are the examples of (input, response, score):\n",
    "    ```\n",
    "    {examples}\n",
    "    ```\n",
    "    \n",
    "    Now, edit the original prompt to create a new prompt such that when the new prompt \\\n",
    "    is used on the example inputs above, the score of the response based on \\\n",
    "    the scoring criteria can be expected to improve.\n",
    "    \n",
    "    New Prompt:\n",
    "    ```\n",
    "    \"\"\"\n",
    ")"
   ]
  },
  {
   "cell_type": "code",
   "execution_count": 178,
   "id": "5c4e89fb",
   "metadata": {},
   "outputs": [],
   "source": [
    "new_prompt = completion_engine.get_response().choices[0].message.content"
   ]
  },
  {
   "cell_type": "code",
   "execution_count": 179,
   "id": "11f09a99",
   "metadata": {},
   "outputs": [
    {
     "name": "stdout",
     "output_type": "stream",
     "text": [
      "\n",
      "\n",
      "Given a SQL command, your task is to translate it into a concise sequence of steps that explain the command's intentions and actions in layman's terms. It is important to keep in mind that your audience may not have prior knowledge about data analytics or SQL programming language. \n",
      "\n",
      "Your explanations should provide a clear step-by-step guide focusing on each operation's phase without referring directly to the actual code. Aim for brevity while ensuring that your explanatory steps provide a broad understanding of the SQL command to a beginner. Write accordingly:\n",
      "\n",
      "- Step 1: <Insert your explanation>\n",
      "- Step 2: <Insert your explanation>\n",
      "- Step 3: <Insert your explanation>\n",
      "- ...\n",
      "\n",
      "Please bypass any introduction or conclusion about the overall command. Concentrate solely on explaining each specific step.\n",
      "\n",
      "Here is the SQL command you need to explain: ```{sql_code}```. \n",
      "\n",
      "Do not incorporate any concluding thoughts or interpretations about the entire command. Stick to explaining the individual steps alone. Make it a point to not refer to any SQL code or technical jargon. Your explanations should be as simple as possible to appropriately guide a novice.\n",
      "\n",
      "\n",
      "Given a SQL command, you are required to decipher it step-by-step in a way that anybody can comprehend — regardless of their knowledge in data analytics or programming languages like SQL. \n",
      "\n",
      "Your set of directions should follow a clear, concise progression, showing what each part does without the need for code references or technical terms. The aim is to aid comprehension for a beginner. Follow the format:\n",
      "\n",
      "- Step 1: <Provide your explanation here>\n",
      "- Step 2: <Provide your explanation here>\n",
      "- Step 3: <Provide your explanation here>\n",
      "- ...\n",
      "\n",
      "Here is your SQL command: ```{sql_code}```.\n",
      "\n",
      "Remember, your explanations should solely focus on the individual steps. Do not provide an overall interpretation of the command or make any concluding remarks. Refrain from using SQL terminology — keep it as simple as possible.\n",
      "\n",
      "This is how you should break down the command:\n",
      "- Describe the action as if you're narrating it to someone with no knowledge of SQL.\n",
      "- Avoid any introduction to the command. Kick-start directly with the explanations of steps.\n",
      "- Make sure no part of the command is assumed to be understood — make every step explicit.\n",
      "- Each different action within the command should be a separate step. The more granular, the better. \n",
      "\n",
      "For instance, if the command selects and counts data from a table, you should:\n",
      "- Explain what selecting is\n",
      "- Explain what counting does\n",
      "- Avoid technical lingo like 'select', 'count', 'table'. Instead use verbs like 'look into', 'find', 'gather', 'sort', 'record' etc.\n",
      "- Make sure the command's purpose is covered adequately. \n",
      "\n",
      "Please note that your score will be based on the following criteria:\n",
      "\n",
      "- Conciseness of your explanation\n",
      "- Clarity and progression of the steps\n",
      "- How well you avoid references to the actual code or SQL jargon \n",
      "- The completeness of your explanation, not assuming any baseline knowledge of data analytics. \n",
      "\n",
      "Use this feedback to generate a high-quality explanation of the SQL command at hand.\n"
     ]
    }
   ],
   "source": [
    "print(original_prompt)\n",
    "print()\n",
    "print(new_prompt)"
   ]
  },
  {
   "cell_type": "code",
   "execution_count": null,
   "id": "b5a67b4c",
   "metadata": {},
   "outputs": [],
   "source": []
  }
 ],
 "metadata": {
  "kernelspec": {
   "display_name": "Python 3 (ipykernel)",
   "language": "python",
   "name": "python3"
  },
  "language_info": {
   "codemirror_mode": {
    "name": "ipython",
    "version": 3
   },
   "file_extension": ".py",
   "mimetype": "text/x-python",
   "name": "python",
   "nbconvert_exporter": "python",
   "pygments_lexer": "ipython3",
   "version": "3.9.13"
  }
 },
 "nbformat": 4,
 "nbformat_minor": 5
}
